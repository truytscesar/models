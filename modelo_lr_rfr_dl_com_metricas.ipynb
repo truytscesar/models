{
 "cells": [
  {
   "cell_type": "code",
   "execution_count": 244,
   "metadata": {
    "id": "rec4XnEms9qB"
   },
   "outputs": [],
   "source": [
    "import os\n",
    "import numpy as np\n",
    "import pandas as pd\n",
    "\n",
    "import seaborn as sns\n",
    "\n",
    "import matplotlib.pyplot as plt\n",
    "\n",
    "from matplotlib import pyplot\n",
    "from matplotlib import colors\n",
    "from matplotlib.ticker import PercentFormatter\n",
    "\n",
    "from sklearn.feature_selection import f_classif\n",
    "from sklearn.preprocessing import StandardScaler\n",
    "from sklearn.compose import make_column_transformer\n",
    "from sklearn.model_selection import GroupShuffleSplit\n",
    "from sklearn.model_selection import train_test_split\n",
    "from sklearn.metrics import confusion_matrix\n",
    "from sklearn.metrics import classification_report\n",
    "from sklearn.preprocessing import RobustScaler\n",
    "from sklearn.preprocessing import Normalizer\n",
    "from sklearn.preprocessing import MinMaxScaler\n",
    "from sklearn.preprocessing import OneHotEncoder\n",
    "from sklearn.tree import DecisionTreeClassifier\n",
    "from sklearn.model_selection import StratifiedKFold\n",
    "from sklearn.linear_model import LinearRegression\n",
    "from sklearn.ensemble import RandomForestRegressor\n",
    "from sklearn.ensemble import RandomForestClassifier\n",
    "from sklearn.utils import class_weight\n",
    "\n",
    "from sklearn.metrics import mean_absolute_error\n",
    "from sklearn.metrics import mean_squared_error\n",
    "from sklearn.metrics import r2_score\n",
    "\n",
    "import lightgbm as lgb\n",
    "\n",
    "from tensorflow import keras\n",
    "\n",
    "from tensorflow.keras.utils import to_categorical\n",
    "from tensorflow.keras import layers\n",
    "from tensorflow.keras import callbacks\n",
    "from tensorflow.keras import layers\n",
    "from tensorflow.keras import callbacks\n",
    "from tensorflow.keras.layers import Dropout\n",
    "from tensorflow.keras import initializers"
   ]
  },
  {
   "cell_type": "code",
   "execution_count": 245,
   "metadata": {
    "id": "imzdjxzohDOt"
   },
   "outputs": [],
   "source": [
    "train_df = pd.read_csv('raw_com_modificacoes.csv', sep=',')"
   ]
  },
  {
   "cell_type": "code",
   "execution_count": 246,
   "metadata": {
    "id": "ScfmwtJT2i5Q"
   },
   "outputs": [],
   "source": [
    "X = train_df.copy()"
   ]
  },
  {
   "cell_type": "code",
   "execution_count": 247,
   "metadata": {
    "id": "SMI0CxjP2gx0"
   },
   "outputs": [],
   "source": [
    "y = X.pop('TEMPO_SALA')"
   ]
  },
  {
   "cell_type": "code",
   "execution_count": 248,
   "metadata": {
    "id": "rNq1_vNKkkEA"
   },
   "outputs": [],
   "source": [
    "features_cat = ['DESC_CIRURGIA',\n",
    "                'ESPECIALIDADE',\n",
    "                'LOCAL_POS_CIR',\n",
    "                'ANESTESIA',\n",
    "                'TP_CIRURGIA']\n",
    "                \n",
    "                #['DESC_CIRURGIA']\n",
    "                #['ESPECIALIDADE']\n",
    "                #['LOCAL_POS_CIR']\n",
    "                #['ANESTESIA']\n",
    "                #['TP_CIRURGIA']\n",
    "                \n",
    "preprocessor = make_column_transformer(\n",
    "    #(MinMaxScaler(), features_num),\n",
    "    #(StandardScaler(), features_num),\n",
    "    #(RobustScaler(), features_num),\n",
    "    #(Normalizer(), features_num),\n",
    "\n",
    "    (OneHotEncoder(), features_cat),\n",
    ")"
   ]
  },
  {
   "cell_type": "code",
   "execution_count": 249,
   "metadata": {
    "colab": {
     "base_uri": "https://localhost:8080/"
    },
    "id": "1ZP9RtLZkkEE",
    "outputId": "f1be1e2d-1afb-47d8-9cba-60faac857213"
   },
   "outputs": [
    {
     "name": "stdout",
     "output_type": "stream",
     "text": [
      "Input shape: [1091]\n"
     ]
    }
   ],
   "source": [
    "X = preprocessor.fit_transform(X)\n",
    "\n",
    "input_shape = [X.shape[1]]\n",
    "print(\"Input shape: {}\".format(input_shape))"
   ]
  },
  {
   "cell_type": "code",
   "execution_count": 250,
   "metadata": {
    "id": "3xTOmJA0kkED"
   },
   "outputs": [],
   "source": [
    "X_train, X_valid, y_train, y_valid = train_test_split(X, y, test_size=0.33)"
   ]
  },
  {
   "cell_type": "code",
   "execution_count": 251,
   "metadata": {
    "colab": {
     "base_uri": "https://localhost:8080/"
    },
    "id": "SrTjpinVkkEG",
    "outputId": "bf5e05ed-0d32-40c4-9d7a-f9e21b756836"
   },
   "outputs": [
    {
     "data": {
      "text/plain": [
       "(scipy.sparse.csr.csr_matrix,\n",
       " scipy.sparse.csr.csr_matrix,\n",
       " pandas.core.series.Series,\n",
       " pandas.core.series.Series)"
      ]
     },
     "execution_count": 251,
     "metadata": {},
     "output_type": "execute_result"
    }
   ],
   "source": [
    "type(X_train), type(X_valid), type(y_train), type(y_valid)"
   ]
  },
  {
   "cell_type": "markdown",
   "metadata": {
    "id": "XhTg76DPcfAW"
   },
   "source": [
    "## Linear regression"
   ]
  },
  {
   "cell_type": "code",
   "execution_count": 252,
   "metadata": {},
   "outputs": [],
   "source": [
    "X_train = X_train.toarray()\n",
    "X_valid = X_valid.toarray()"
   ]
  },
  {
   "cell_type": "code",
   "execution_count": 253,
   "metadata": {
    "colab": {
     "base_uri": "https://localhost:8080/"
    },
    "id": "8AzwObb3BON0",
    "outputId": "5fe49e36-2cbd-4533-d1c1-bbf9c2ec7f4d"
   },
   "outputs": [
    {
     "name": "stdout",
     "output_type": "stream",
     "text": [
      "-3.2946732239643505e+19\n",
      "[-2.13492579e+13 -2.13492579e+13  4.77493264e+13 ...  2.16291549e+14\n",
      "  2.16291549e+14  2.16291549e+14]\n",
      "-44375936968223.59\n"
     ]
    }
   ],
   "source": [
    "reg = LinearRegression().fit(X_train, y_train)\n",
    "print(reg.score(X, y))\n",
    "print(reg.coef_)\n",
    "print(reg.intercept_)"
   ]
  },
  {
   "cell_type": "markdown",
   "metadata": {
    "id": "W0IprbSPci-O"
   },
   "source": [
    "Inference in validation dataset"
   ]
  },
  {
   "cell_type": "code",
   "execution_count": 254,
   "metadata": {},
   "outputs": [
    {
     "data": {
      "text/plain": [
       "array([305.4375 , 267.21875, 245.21875, ..., 631.09375, 185.96875,\n",
       "       169.03125])"
      ]
     },
     "execution_count": 254,
     "metadata": {},
     "output_type": "execute_result"
    }
   ],
   "source": [
    "preds = reg.predict(np.array(X_valid))\n",
    "preds"
   ]
  },
  {
   "cell_type": "code",
   "execution_count": 255,
   "metadata": {},
   "outputs": [],
   "source": [
    "y_pred = []\n",
    "for x in range(len(preds)):\n",
    "    y_pred.append(preds[x])\n",
    "y_true = y_valid.values.tolist()"
   ]
  },
  {
   "cell_type": "code",
   "execution_count": 256,
   "metadata": {},
   "outputs": [
    {
     "name": "stdout",
     "output_type": "stream",
     "text": [
      "86555309538.74043\n",
      "2.3596917477244986e+24\n",
      "-1.0075962060523402e+20\n"
     ]
    }
   ],
   "source": [
    "print(mean_absolute_error(y_true, y_pred))\n",
    "print(mean_squared_error(y_true, y_pred))\n",
    "print(r2_score(y_true, y_pred))"
   ]
  },
  {
   "cell_type": "code",
   "execution_count": 257,
   "metadata": {},
   "outputs": [],
   "source": [
    "y_30 = 0\n",
    "for x in range(len(y_pred)):\n",
    "    if y_pred[x] - y_true[x] > 30:\n",
    "        y_30 = y_30+1\n",
    "    elif y_pred[x] - y_true[x] < -30:\n",
    "        y_30 = y_30+1\n",
    "    else:\n",
    "        pass\n",
    "y_1 = 0\n",
    "for x in range(len(y_pred)):\n",
    "    if y_pred[x] - y_true[x] > 60:\n",
    "        y_1 = y_1+1\n",
    "    elif y_pred[x] - y_true[x] < -60:\n",
    "        y_1 = y_1+1\n",
    "    else:\n",
    "        pass\n",
    "y_2 = 0\n",
    "for x in range(len(y_pred)):\n",
    "    if y_pred[x] - y_true[x] > 120:\n",
    "        y_2 = y_2+1\n",
    "    elif y_pred[x] - y_true[x] < -120:\n",
    "        y_2 = y_2+1\n",
    "    else:\n",
    "        pass"
   ]
  },
  {
   "cell_type": "code",
   "execution_count": 258,
   "metadata": {},
   "outputs": [
    {
     "name": "stdout",
     "output_type": "stream",
     "text": [
      "30 min:  62.090336134453786\n",
      "1 hora:  31.544117647058822\n",
      "2 horas:  12.589285714285714\n"
     ]
    }
   ],
   "source": [
    "print('30 min: ',y_30/len(y_pred)*100)\n",
    "print('1 hora: ',y_1/len(y_pred)*100)\n",
    "print('2 horas: ',y_2/len(y_pred)*100)"
   ]
  },
  {
   "cell_type": "code",
   "execution_count": 259,
   "metadata": {},
   "outputs": [],
   "source": [
    "for x in range(len(y_pred)):\n",
    "    if y_pred[x] > 1200:\n",
    "        y_pred[x] = 1200\n",
    "    elif y_pred[x] < 0:\n",
    "        y_pred[x] = 0\n",
    "            "
   ]
  },
  {
   "cell_type": "code",
   "execution_count": null,
   "metadata": {},
   "outputs": [],
   "source": []
  },
  {
   "cell_type": "code",
   "execution_count": 260,
   "metadata": {},
   "outputs": [],
   "source": [
    "y = pd.DataFrame()"
   ]
  },
  {
   "cell_type": "code",
   "execution_count": 261,
   "metadata": {},
   "outputs": [],
   "source": [
    "y['y_true'] = y_true"
   ]
  },
  {
   "cell_type": "code",
   "execution_count": 262,
   "metadata": {},
   "outputs": [],
   "source": [
    "y['y_pred'] = y_pred"
   ]
  },
  {
   "cell_type": "code",
   "execution_count": 263,
   "metadata": {},
   "outputs": [],
   "source": [
    "y['dif'] = y.y_true - y.y_pred"
   ]
  },
  {
   "cell_type": "code",
   "execution_count": 264,
   "metadata": {},
   "outputs": [],
   "source": [
    "y = y[y['y_pred']!=0]"
   ]
  },
  {
   "cell_type": "code",
   "execution_count": 265,
   "metadata": {},
   "outputs": [],
   "source": [
    "y_true = y[(y['dif']>-400)&(y['dif']<400)].y_true.values.tolist()"
   ]
  },
  {
   "cell_type": "code",
   "execution_count": 266,
   "metadata": {},
   "outputs": [],
   "source": [
    "y_pred = y[(y['dif']>-400)&(y['dif']<400)].y_pred.values.tolist()"
   ]
  },
  {
   "cell_type": "code",
   "execution_count": 269,
   "metadata": {},
   "outputs": [
    {
     "name": "stderr",
     "output_type": "stream",
     "text": [
      "/root/anaconda3/lib/python3.8/site-packages/seaborn/_decorators.py:36: FutureWarning: Pass the following variables as keyword args: x, y. From version 0.12, the only valid positional argument will be `data`, and passing other arguments without an explicit keyword will result in an error or misinterpretation.\n",
      "  warnings.warn(\n"
     ]
    },
    {
     "data": {
      "image/png": "[encoded data removed]",
      "text/plain": [
       "<Figure size 504x360 with 1 Axes>"
      ]
     },
     "metadata": {
      "needs_background": "light"
     },
     "output_type": "display_data"
    }
   ],
   "source": [
    "fig, ax = plt.subplots(figsize=(7,5))\n",
    "\n",
    "sns.set_context(\"paper\", font_scale=2.0) \n",
    "sns.scatterplot(y_true, y_pred, ax=ax);\n",
    "ax.set_xlabel('Real Values');\n",
    "ax.set_ylabel('Predictions');\n",
    "\n",
    "fig.savefig('rlm.png', dpi=fig.dpi);"
   ]
  },
  {
   "cell_type": "code",
   "execution_count": 273,
   "metadata": {},
   "outputs": [],
   "source": [
    "y_esperado = y_true"
   ]
  },
  {
   "cell_type": "code",
   "execution_count": 272,
   "metadata": {},
   "outputs": [],
   "source": [
    "y_previsto= y_pred"
   ]
  },
  {
   "cell_type": "code",
   "execution_count": 274,
   "metadata": {},
   "outputs": [],
   "source": [
    "from sklearn.metrics import mean_absolute_error\n",
    "from sklearn.metrics import mean_squared_error\n",
    "\n",
    "import numpy as np\n",
    "\n",
    "def calcular_rmse(y_esperado, y_previsto):\n",
    "    return np.sqrt(mean_squared_error(y_esperado, y_previsto))\n",
    "\n",
    "def calcular_mape(y_esperado, y_previsto):\n",
    "    y_esperado, y_previsto = np.array(y_esperado), np.array(y_previsto)\n",
    "    return np.mean(np.abs((y_esperado - y_previsto) / y_esperado)) * 100\n",
    "\n",
    "def calcular_metricas_regressao(y_esperado, y_previsto):\n",
    "    msg = 'Métricas Regressão'\n",
    "    print(msg)\n",
    "    print('-' * len(msg))\n",
    "    print(f'Mean Absolute Error - {mean_absolute_error(y_esperado, y_previsto)}')\n",
    "    print(f'Root Mean Square Error - {calcular_rmse(y_esperado, y_previsto)}')\n",
    "    print(f'Mean Absolute Percentage Error - {calcular_mape(y_esperado, y_previsto)}')"
   ]
  },
  {
   "cell_type": "code",
   "execution_count": 275,
   "metadata": {},
   "outputs": [
    {
     "data": {
      "text/plain": [
       "56.41820519284509"
      ]
     },
     "execution_count": 275,
     "metadata": {},
     "output_type": "execute_result"
    }
   ],
   "source": [
    "mean_absolute_error(y_esperado, y_previsto)"
   ]
  },
  {
   "cell_type": "code",
   "execution_count": 276,
   "metadata": {},
   "outputs": [
    {
     "data": {
      "text/plain": [
       "77.87534763882381"
      ]
     },
     "execution_count": 276,
     "metadata": {},
     "output_type": "execute_result"
    }
   ],
   "source": [
    "calcular_rmse(y_esperado, y_previsto)"
   ]
  },
  {
   "cell_type": "code",
   "execution_count": 277,
   "metadata": {},
   "outputs": [
    {
     "data": {
      "text/plain": [
       "19.724751672883112"
      ]
     },
     "execution_count": 277,
     "metadata": {},
     "output_type": "execute_result"
    }
   ],
   "source": [
    "calcular_mape(y_esperado, y_previsto)"
   ]
  },
  {
   "cell_type": "code",
   "execution_count": 278,
   "metadata": {},
   "outputs": [
    {
     "name": "stdout",
     "output_type": "stream",
     "text": [
      "Métricas Regressão\n",
      "------------------\n",
      "Mean Absolute Error - 56.41820519284509\n",
      "Root Mean Square Error - 77.87534763882381\n",
      "Mean Absolute Percentage Error - 19.724751672883112\n"
     ]
    }
   ],
   "source": [
    "calcular_metricas_regressao(y_esperado, y_previsto)"
   ]
  },
  {
   "cell_type": "code",
   "execution_count": null,
   "metadata": {},
   "outputs": [],
   "source": []
  },
  {
   "cell_type": "code",
   "execution_count": null,
   "metadata": {},
   "outputs": [],
   "source": []
  },
  {
   "cell_type": "code",
   "execution_count": null,
   "metadata": {},
   "outputs": [],
   "source": []
  }
 ],
 "metadata": {
  "colab": {
   "collapsed_sections": [],
   "name": "final.ipynb",
   "provenance": []
  },
  "kernelspec": {
   "display_name": "Python 3",
   "language": "python",
   "name": "python3"
  },
  "language_info": {
   "codemirror_mode": {
    "name": "ipython",
    "version": 3
   },
   "file_extension": ".py",
   "mimetype": "text/x-python",
   "name": "python",
   "nbconvert_exporter": "python",
   "pygments_lexer": "ipython3",
   "version": "3.8.11"
  }
 },
 "nbformat": 4,
 "nbformat_minor": 1
}
